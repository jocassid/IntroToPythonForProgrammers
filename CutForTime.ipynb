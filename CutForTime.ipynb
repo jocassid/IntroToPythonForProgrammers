{
 "cells": [
  {
   "cell_type": "code",
   "execution_count": 1,
   "id": "6019319b",
   "metadata": {},
   "outputs": [
    {
     "name": "stdout",
     "output_type": "stream",
     "text": [
      "1j (-1+0j)\n",
      "(3+4j) (-7+24j)\n"
     ]
    }
   ],
   "source": [
    "# fun fact, Python supports imaginary and complex numbers\n",
    "imaginary = 1j\n",
    "imaginary_squared = imaginary ** 2\n",
    "print(imaginary, imaginary_squared)\n",
    "\n",
    "complex = 3 + 4j\n",
    "complex_squared = complex ** 2\n",
    "print(complex, complex_squared)"
   ]
  },
  {
   "cell_type": "code",
   "execution_count": null,
   "id": "2601ef16",
   "metadata": {},
   "outputs": [],
   "source": []
  }
 ],
 "metadata": {
  "kernelspec": {
   "display_name": "Python 3",
   "language": "python",
   "name": "python3"
  },
  "language_info": {
   "codemirror_mode": {
    "name": "ipython",
    "version": 3
   },
   "file_extension": ".py",
   "mimetype": "text/x-python",
   "name": "python",
   "nbconvert_exporter": "python",
   "pygments_lexer": "ipython3",
   "version": "3.6.9"
  }
 },
 "nbformat": 4,
 "nbformat_minor": 5
}
