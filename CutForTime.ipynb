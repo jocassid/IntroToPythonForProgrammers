{
 "cells": [
  {
   "cell_type": "markdown",
   "metadata": {},
   "source": [
    "## Numeric data types"
   ]
  },
  {
   "cell_type": "code",
   "execution_count": 1,
   "metadata": {},
   "outputs": [
    {
     "name": "stdout",
     "output_type": "stream",
     "text": [
      "fp_sum 3.3000000000000003\n",
      "decimal_sum 3.3\n"
     ]
    }
   ],
   "source": [
    "# Standard library has decimal type to avoid binary rounding errors.\n",
    "# This is helpful when dealing with monetary values\n",
    "from decimal import Decimal\n",
    "\n",
    "fp_sum = 1.1 + 2.2\n",
    "print('fp_sum', fp_sum)\n",
    "\n",
    "decimal_sum = Decimal('1.1') + Decimal('2.2')\n",
    "print('decimal_sum', decimal_sum)"
   ]
  },
  {
   "cell_type": "code",
   "execution_count": 2,
   "metadata": {},
   "outputs": [
    {
     "name": "stdout",
     "output_type": "stream",
     "text": [
      "1j (-1+0j)\n",
      "(3+4j) (-7+24j)\n"
     ]
    }
   ],
   "source": [
    "# fun fact, Python supports imaginary and complex numbers\n",
    "imaginary = 1j\n",
    "imaginary_squared = imaginary ** 2\n",
    "print(imaginary, imaginary_squared)\n",
    "\n",
    "complex = 3 + 4j\n",
    "complex_squared = complex ** 2\n",
    "print(complex, complex_squared)"
   ]
  },
  {
   "cell_type": "code",
   "execution_count": null,
   "metadata": {},
   "outputs": [],
   "source": []
  }
 ],
 "metadata": {
  "kernelspec": {
   "display_name": "Python 3",
   "language": "python",
   "name": "python3"
  },
  "language_info": {
   "codemirror_mode": {
    "name": "ipython",
    "version": 3
   },
   "file_extension": ".py",
   "mimetype": "text/x-python",
   "name": "python",
   "nbconvert_exporter": "python",
   "pygments_lexer": "ipython3",
   "version": "3.8.3"
  }
 },
 "nbformat": 4,
 "nbformat_minor": 5
}
