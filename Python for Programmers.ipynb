{
 "cells": [
  {
   "cell_type": "markdown",
   "metadata": {
    "slideshow": {
     "slide_type": "slide"
    }
   },
   "source": [
    "# Python for Programmers\n",
    "\n",
    "An introduction to Python for people who have programmed in other languages\n",
    "\n",
    "https://github.com/jocassid/IntroToPythonForProgrammers"
   ]
  },
  {
   "cell_type": "markdown",
   "metadata": {
    "slideshow": {
     "slide_type": "slide"
    }
   },
   "source": [
    "## Tools used in this presentation\n",
    "\n",
    "**[Jupyter Notebook](https://jupyter.org/):** Web based tool for writing Python (Julia, R, etc).  Can imbed Markdown and graphs\n",
    "    \n",
    "**[RevealJS](https://revealjs.com/):** JavaScript library for HTML slideshows"
   ]
  },
  {
   "cell_type": "markdown",
   "metadata": {
    "slideshow": {
     "slide_type": "slide"
    }
   },
   "source": [
    "## Python in a nutshell\n",
    "\n",
    "* multi-paradigm language: procedural, object-oriented, functional\n",
    "* interpreter automatically compiles and runs bytecode\n",
    "* open source\n",
    "* cross platform\n",
    "* https://python.org is the website\n",
    "* Use version 3.4 or later\n",
    "* Multiple implentations: C Python (the main one), PyPy, MicroPython"
   ]
  },
  {
   "cell_type": "markdown",
   "metadata": {
    "slideshow": {
     "slide_type": "slide"
    }
   },
   "source": [
    "_\"Python is the second best language for everything\"_"
   ]
  },
  {
   "cell_type": "markdown",
   "metadata": {
    "slideshow": {
     "slide_type": "slide"
    }
   },
   "source": [
    "Areas where Python is the leading language:\n",
    "    \n",
    "* Data science/analytics (Jupyter, Pandas/Numpy, Scikit-learn, etc)\n",
    "* Teaching programming\n",
    "* Cybersecurity"
   ]
  },
  {
   "cell_type": "markdown",
   "metadata": {
    "slideshow": {
     "slide_type": "slide"
    }
   },
   "source": [
    "## Running the interpreter"
   ]
  },
  {
   "cell_type": "markdown",
   "metadata": {
    "slideshow": {
     "slide_type": "subslide"
    }
   },
   "source": [
    "### From the Start menu\n",
    "\n",
    "![GitHub Logo](open_interpreter.png)"
   ]
  },
  {
   "cell_type": "markdown",
   "metadata": {
    "slideshow": {
     "slide_type": "subslide"
    }
   },
   "source": [
    "### running a script from the command line\n",
    "`python.exe my_program.py` "
   ]
  },
  {
   "cell_type": "markdown",
   "metadata": {
    "slideshow": {
     "slide_type": "subslide"
    }
   },
   "source": [
    "### running the interpreter in interactive mode\n",
    "`python.exe`\n",
    "\n",
    "![Interactive Prompt](interactive_prompt.png)"
   ]
  },
  {
   "cell_type": "markdown",
   "metadata": {
    "slideshow": {
     "slide_type": "subslide"
    }
   },
   "source": [
    "### run some code before going to an interactive prompt\n",
    "`python.exe -i some_code.py`"
   ]
  },
  {
   "cell_type": "markdown",
   "metadata": {
    "slideshow": {
     "slide_type": "subslide"
    }
   },
   "source": [
    "## Interpreter basics\n",
    "\n",
    "* type code then hit enter to run\n",
    "* the value of expression (if any) will be output on the next line\n",
    "* use up and down arrows to navigate through previous expressions"
   ]
  },
  {
   "cell_type": "markdown",
   "metadata": {
    "slideshow": {
     "slide_type": "subslide"
    }
   },
   "source": [
    "## Hello World"
   ]
  },
  {
   "cell_type": "code",
   "execution_count": 238,
   "metadata": {
    "slideshow": {
     "slide_type": "fragment"
    }
   },
   "outputs": [
    {
     "name": "stdout",
     "output_type": "stream",
     "text": [
      "hello world!\n"
     ]
    }
   ],
   "source": [
    "print('hello', 'world!')"
   ]
  },
  {
   "cell_type": "markdown",
   "metadata": {
    "slideshow": {
     "slide_type": "slide"
    }
   },
   "source": [
    "## Getting help inside the interpreter"
   ]
  },
  {
   "cell_type": "markdown",
   "metadata": {
    "slideshow": {
     "slide_type": "subslide"
    }
   },
   "source": [
    "`dir` function lists the symbols within a namespace (scope)"
   ]
  },
  {
   "cell_type": "code",
   "execution_count": 239,
   "metadata": {
    "slideshow": {
     "slide_type": "fragment"
    }
   },
   "outputs": [
    {
     "name": "stdout",
     "output_type": "stream",
     "text": [
      "['many_values', 'my_func', 'my_range', 'n', 'no_return', 'one_value', 'pi', 'pieces', 'primes', 'quit', 'quote', 's', 'square', 't1', 't2', 't3', 'the_rest', 'two_values', 'value', 'variable_for_key']\n"
     ]
    }
   ],
   "source": [
    "# With no arguments show the symbols in the current namespace\n",
    "print(dir()[-20:])"
   ]
  },
  {
   "cell_type": "code",
   "execution_count": 240,
   "metadata": {
    "slideshow": {
     "slide_type": "subslide"
    }
   },
   "outputs": [
    {
     "name": "stdout",
     "output_type": "stream",
     "text": [
      "['__add__', '__class__', '__contains__', '__delattr__', '__dir__', '__doc__', '__eq__', '__format__', '__ge__', '__getattribute__', '__getitem__', '__getnewargs__', '__gt__', '__hash__', '__init__', '__init_subclass__', '__iter__', '__le__', '__len__', '__lt__', '__mod__', '__mul__', '__ne__', '__new__', '__reduce__', '__reduce_ex__', '__repr__', '__rmod__', '__rmul__', '__setattr__', '__sizeof__', '__str__', '__subclasshook__', 'capitalize', 'casefold', 'center', 'count', 'encode', 'endswith', 'expandtabs', 'find', 'format', 'format_map', 'index', 'isalnum', 'isalpha', 'isdecimal', 'isdigit', 'isidentifier', 'islower', 'isnumeric', 'isprintable', 'isspace', 'istitle', 'isupper', 'join', 'ljust', 'lower', 'lstrip', 'maketrans', 'partition', 'replace', 'rfind', 'rindex', 'rjust', 'rpartition', 'rsplit', 'rstrip', 'split', 'splitlines', 'startswith', 'strip', 'swapcase', 'title', 'translate', 'upper', 'zfill']\n"
     ]
    }
   ],
   "source": [
    "# let's pass it a string\n",
    "print(dir('hola'))"
   ]
  },
  {
   "cell_type": "markdown",
   "metadata": {
    "slideshow": {
     "slide_type": "subslide"
    }
   },
   "source": [
    "`help` function shows help text for the specified item.  In the terminal this information is displayed using the `more` (or `less`) program. 'f' and 'b' keys will move forward and back (or up and down arrow keys).  Press 'q' key to quit"
   ]
  },
  {
   "cell_type": "code",
   "execution_count": 241,
   "metadata": {
    "slideshow": {
     "slide_type": "fragment"
    }
   },
   "outputs": [
    {
     "name": "stdout",
     "output_type": "stream",
     "text": [
      "Help on built-in function upper:\n",
      "\n",
      "upper(...) method of builtins.str instance\n",
      "    S.upper() -> str\n",
      "    \n",
      "    Return a copy of S converted to uppercase.\n",
      "\n"
     ]
    }
   ],
   "source": [
    "# let's look at help text for a strings upper method\n",
    "help('hola'.upper)"
   ]
  },
  {
   "cell_type": "markdown",
   "metadata": {
    "slideshow": {
     "slide_type": "slide"
    }
   },
   "source": [
    "## Numeric data types"
   ]
  },
  {
   "cell_type": "code",
   "execution_count": 242,
   "metadata": {
    "slideshow": {
     "slide_type": "subslide"
    }
   },
   "outputs": [
    {
     "name": "stdout",
     "output_type": "stream",
     "text": [
      "5 5.5 6.022e+23\n"
     ]
    }
   ],
   "source": [
    "# ints and floating point that should be familar from any language based on C or FORTRAN\n",
    "an_integer = 5\n",
    "a_floating_point = 5.5\n",
    "another_floating_point = 6.022e23\n",
    "print(an_integer, a_floating_point, another_floating_point)"
   ]
  },
  {
   "cell_type": "code",
   "execution_count": 243,
   "metadata": {
    "slideshow": {
     "slide_type": "subslide"
    }
   },
   "outputs": [
    {
     "name": "stdout",
     "output_type": "stream",
     "text": [
      "fp_sum 3.3000000000000003\n",
      "decimal_sum 3.3\n"
     ]
    }
   ],
   "source": [
    "# Standard library has decimal type to avoid binary rounding errors.\n",
    "# This is helpful when dealing with monetary values\n",
    "from decimal import Decimal\n",
    "\n",
    "fp_sum = 1.1 + 2.2\n",
    "print('fp_sum', fp_sum)\n",
    "\n",
    "decimal_sum = Decimal('1.1') + Decimal('2.2')\n",
    "print('decimal_sum', decimal_sum)"
   ]
  },
  {
   "cell_type": "markdown",
   "metadata": {
    "slideshow": {
     "slide_type": "slide"
    }
   },
   "source": [
    "## Boolean and \"Null\" constants"
   ]
  },
  {
   "cell_type": "code",
   "execution_count": 244,
   "metadata": {
    "slideshow": {
     "slide_type": "fragment"
    }
   },
   "outputs": [
    {
     "name": "stdout",
     "output_type": "stream",
     "text": [
      "a_true_thing True\n",
      "a_false_thing False\n",
      "a_null_thing None\n"
     ]
    }
   ],
   "source": [
    "# Note the capitalization of these constants\n",
    "a_true_thing = True\n",
    "a_false_thing = False\n",
    "a_null_thing = None\n",
    "print('a_true_thing', a_true_thing)\n",
    "print('a_false_thing', a_false_thing)\n",
    "print('a_null_thing', a_null_thing)"
   ]
  },
  {
   "cell_type": "markdown",
   "metadata": {
    "slideshow": {
     "slide_type": "slide"
    }
   },
   "source": [
    "## Strings"
   ]
  },
  {
   "cell_type": "code",
   "execution_count": 245,
   "metadata": {
    "slideshow": {
     "slide_type": "fragment"
    }
   },
   "outputs": [
    {
     "name": "stdout",
     "output_type": "stream",
     "text": [
      "In single quotes (\")\n",
      "In double quotes (')\n"
     ]
    }
   ],
   "source": [
    "# strings can be enclosed with single or double quotes\n",
    "# whichever you use, you don't need to escape the other kind of quote\n",
    "print('In single quotes (\")')\n",
    "print(\"In double quotes (')\")"
   ]
  },
  {
   "cell_type": "code",
   "execution_count": 246,
   "metadata": {
    "slideshow": {
     "slide_type": "subslide"
    }
   },
   "outputs": [
    {
     "name": "stdout",
     "output_type": "stream",
     "text": [
      "This is could be a really long string that could extend way off the screen\n"
     ]
    }
   ],
   "source": [
    "# Two string literals next to each other are automatically concatenated together\n",
    "print(\n",
    "    \"This is could be a really long string \"\n",
    "    \"that could extend way off the screen\"\n",
    ")"
   ]
  },
  {
   "cell_type": "code",
   "execution_count": 247,
   "metadata": {
    "slideshow": {
     "slide_type": "subslide"
    }
   },
   "outputs": [
    {
     "name": "stdout",
     "output_type": "stream",
     "text": [
      "1st line all the way to the left\n",
      "    2nd line indented with 4 characters\n"
     ]
    }
   ],
   "source": [
    "# Using 3 quote characters creates a string where whitespace is preseved\n",
    "print(\"\"\"1st line all the way to the left\n",
    "    2nd line indented with 4 characters\"\"\")"
   ]
  },
  {
   "cell_type": "code",
   "execution_count": 248,
   "metadata": {
    "slideshow": {
     "slide_type": "subslide"
    }
   },
   "outputs": [
    {
     "name": "stdout",
     "output_type": "stream",
     "text": [
      "'str' object does not support item assignment\n"
     ]
    }
   ],
   "source": [
    "# Strings aren't mutable\n",
    "quote = \"Hello world\"\n",
    "try:\n",
    "    quote[1] = 'u'\n",
    "except TypeError as error:\n",
    "    print(error)"
   ]
  },
  {
   "cell_type": "code",
   "execution_count": 249,
   "metadata": {
    "slideshow": {
     "slide_type": "subslide"
    }
   },
   "outputs": [
    {
     "name": "stdout",
     "output_type": "stream",
     "text": [
      "quote is 11 characters in length\n"
     ]
    }
   ],
   "source": [
    "# get length of string\n",
    "print('quote is', len(quote), 'characters in length')"
   ]
  },
  {
   "cell_type": "markdown",
   "metadata": {
    "slideshow": {
     "slide_type": "subslide"
    }
   },
   "source": [
    "### Task: write a regular expression that matches the '\\\\' character"
   ]
  },
  {
   "cell_type": "markdown",
   "metadata": {
    "slideshow": {
     "slide_type": "fragment"
    }
   },
   "source": [
    "#### Problem 1:\n",
    "'\\\\' is the escape character in regular expressions. So we have `\\\\`"
   ]
  },
  {
   "cell_type": "markdown",
   "metadata": {
    "slideshow": {
     "slide_type": "fragment"
    }
   },
   "source": [
    "#### Problem 2:\n",
    "'\\\\' is the escape character in C, Java, C#, Python, etc.  So we have `\\\\\\\\`"
   ]
  },
  {
   "cell_type": "code",
   "execution_count": 250,
   "metadata": {
    "slideshow": {
     "slide_type": "fragment"
    }
   },
   "outputs": [
    {
     "name": "stdout",
     "output_type": "stream",
     "text": [
      "\\\\\n"
     ]
    }
   ],
   "source": [
    "# Solution: raw string syntax which disables '\\' as an escape character\n",
    "print(r'\\\\')"
   ]
  },
  {
   "cell_type": "markdown",
   "metadata": {
    "slideshow": {
     "slide_type": "slide"
    }
   },
   "source": [
    "### String formatting\n",
    "See https://docs.python.org/3/library/string.html#format-string-syntax for details"
   ]
  },
  {
   "cell_type": "code",
   "execution_count": 251,
   "metadata": {
    "slideshow": {
     "slide_type": "fragment"
    }
   },
   "outputs": [
    {
     "name": "stdout",
     "output_type": "stream",
     "text": [
      "4  3.14159  helloworld\n"
     ]
    }
   ],
   "source": [
    "# using f-strings\n",
    "from math import pi\n",
    "a = 4\n",
    "print(f\"{a}  {pi:.5f}  {'hello' + 'world'}\")"
   ]
  },
  {
   "cell_type": "code",
   "execution_count": 252,
   "metadata": {
    "slideshow": {
     "slide_type": "fragment"
    }
   },
   "outputs": [
    {
     "name": "stdout",
     "output_type": "stream",
     "text": [
      "4  3.14159  helloworld\n"
     ]
    }
   ],
   "source": [
    "# using format method\n",
    "print(\"{}  {:.5f}  {}\".format(\n",
    "    a,\n",
    "    pi,\n",
    "    'hello' + 'world',\n",
    "))"
   ]
  },
  {
   "cell_type": "markdown",
   "metadata": {
    "slideshow": {
     "slide_type": "slide"
    }
   },
   "source": [
    "## Operators"
   ]
  },
  {
   "cell_type": "code",
   "execution_count": 312,
   "metadata": {
    "slideshow": {
     "slide_type": "subslide"
    }
   },
   "outputs": [
    {
     "name": "stdout",
     "output_type": "stream",
     "text": [
      "3 / 2  = 1.5\n",
      "4 / 2  = 2.0\n",
      "3 // 2 = 1\n",
      "3 % 2 = 1\n",
      "3 ** 2 = 9\n"
     ]
    }
   ],
   "source": [
    "# Most arithmatic operators are the same as in other C-based languages,\n",
    "# but here are some things to note\n",
    "\n",
    "print('3 / 2  =', 3 / 2)  # floating point division\n",
    "print('4 / 2  =', 4 / 2)  #   divides evenly, but you still get a float  \n",
    "print('3 // 2 =', 3 // 2) # performs integer division\n",
    "print('3 % 2 =', 3 % 2) # modulo (remainder)\n",
    "print('3 ** 2 =', 3 ** 2) # raise to exponent"
   ]
  },
  {
   "cell_type": "markdown",
   "metadata": {
    "slideshow": {
     "slide_type": "subslide"
    }
   },
   "source": [
    "- No `++` or `--` operators in Python (numbers aren't mutable)\n",
    "- `+=`, `-=`, etc. operators are available"
   ]
  },
  {
   "cell_type": "code",
   "execution_count": 254,
   "metadata": {
    "slideshow": {
     "slide_type": "subslide"
    }
   },
   "outputs": [
    {
     "name": "stdout",
     "output_type": "stream",
     "text": [
      "3 & 4  = 0b0\n",
      "3 | 2  = 0b11\n"
     ]
    }
   ],
   "source": [
    "# bit-wise and/or are used for things such as sets\n",
    "print('3 & 4  =', bin(3 & 4)) # and\n",
    "print('3 | 2  =', bin(3 | 2)) # or"
   ]
  },
  {
   "cell_type": "markdown",
   "metadata": {
    "slideshow": {
     "slide_type": "subslide"
    }
   },
   "source": [
    "Logical operators are simply `not`, `and` and `or`"
   ]
  },
  {
   "cell_type": "markdown",
   "metadata": {
    "slideshow": {
     "slide_type": "slide"
    }
   },
   "source": [
    "## Branching and Looping\n",
    "Save wear and tear on your { } ( ) and ; keys by switching to Python!"
   ]
  },
  {
   "cell_type": "code",
   "execution_count": 255,
   "metadata": {
    "slideshow": {
     "slide_type": "subslide"
    }
   },
   "outputs": [
    {
     "name": "stdout",
     "output_type": "stream",
     "text": [
      "number is even\n"
     ]
    }
   ],
   "source": [
    "# Note that you don't need to put parenthesis around the boolean expression\n",
    "n = 4\n",
    "if n % 2 == 0:\n",
    "    # if block defined by indenting contents (Use 4 spaces)\n",
    "    print('number is even')"
   ]
  },
  {
   "cell_type": "code",
   "execution_count": 256,
   "metadata": {
    "slideshow": {
     "slide_type": "subslide"
    }
   },
   "outputs": [],
   "source": [
    "# Use the pass keyword as a place holder when necessary\n",
    "n = 4\n",
    "if n % 2 == 0:\n",
    "    # TODO: put something here\n",
    "    pass"
   ]
  },
  {
   "cell_type": "code",
   "execution_count": 257,
   "metadata": {
    "slideshow": {
     "slide_type": "subslide"
    }
   },
   "outputs": [
    {
     "name": "stdout",
     "output_type": "stream",
     "text": [
      "n > 0\n"
     ]
    }
   ],
   "source": [
    "# elif (as opposed to elseif, else if, etc)\n",
    "n = 5\n",
    "if n > 0:\n",
    "    print('n > 0')\n",
    "elif n < 0:\n",
    "    print('n < 0')\n",
    "else:\n",
    "    print('n is probably zero')"
   ]
  },
  {
   "cell_type": "code",
   "execution_count": 258,
   "metadata": {
    "slideshow": {
     "slide_type": "subslide"
    }
   },
   "outputs": [
    {
     "name": "stdout",
     "output_type": "stream",
     "text": [
      "0\n",
      "2\n"
     ]
    }
   ],
   "source": [
    "# count 0, 1, 2 (don't print the 1)\n",
    "for i in range(3):\n",
    "    if i == 1:\n",
    "        continue\n",
    "    print(i)"
   ]
  },
  {
   "cell_type": "code",
   "execution_count": 259,
   "metadata": {
    "slideshow": {
     "slide_type": "subslide"
    }
   },
   "outputs": [
    {
     "name": "stdout",
     "output_type": "stream",
     "text": [
      "0\n",
      "1\n",
      "2\n"
     ]
    }
   ],
   "source": [
    "i = -1\n",
    "while i < 10:\n",
    "    i += 1\n",
    "    if i >=3:\n",
    "        break\n",
    "    print(i)"
   ]
  },
  {
   "cell_type": "markdown",
   "metadata": {
    "slideshow": {
     "slide_type": "slide"
    }
   },
   "source": [
    "## The Big 4 Data Structures"
   ]
  },
  {
   "cell_type": "markdown",
   "metadata": {
    "slideshow": {
     "slide_type": "slide"
    }
   },
   "source": [
    "### Lists (array equivalent)"
   ]
  },
  {
   "cell_type": "code",
   "execution_count": 260,
   "metadata": {
    "slideshow": {
     "slide_type": "fragment"
    }
   },
   "outputs": [
    {
     "name": "stdout",
     "output_type": "stream",
     "text": [
      "empty list: []\n",
      "list with values: [0, 2, 4, 6]\n",
      "list created from something iterable: [0, 1, 2, 3, 4, 5, 6, 7, 8, 9]\n"
     ]
    }
   ],
   "source": [
    "print('empty list:', [])\n",
    "print('list with values:', [0, 2, 4, 6])\n",
    "a = list(range(10))\n",
    "print('list created from something iterable:', a)"
   ]
  },
  {
   "cell_type": "code",
   "execution_count": 261,
   "metadata": {
    "slideshow": {
     "slide_type": "subslide"
    }
   },
   "outputs": [
    {
     "name": "stdout",
     "output_type": "stream",
     "text": [
      "a has 10 items\n"
     ]
    }
   ],
   "source": [
    "# Use len to find length of list\n",
    "print('a has', len(a), 'items')"
   ]
  },
  {
   "cell_type": "code",
   "execution_count": 262,
   "metadata": {
    "slideshow": {
     "slide_type": "subslide"
    }
   },
   "outputs": [
    {
     "name": "stdout",
     "output_type": "stream",
     "text": [
      "1st item: 0\n",
      "last item: 9\n",
      "1st 3 items: [0, 1, 2]\n",
      "2nd to 5th items: [1, 2, 3, 4]\n",
      "last 3 items: [7, 8, 9]\n",
      "every third element starting with the 3rd element: [2, 5, 8]\n"
     ]
    }
   ],
   "source": [
    "print('1st item:', a[0])\n",
    "print('last item:', a[-1])\n",
    "print('1st 3 items:', a[:3])  # get slice of array\n",
    "print('2nd to 5th items:', a[1:5])\n",
    "print('last 3 items:', a[-3:])\n",
    "print('every third element starting with the 3rd element:', a[2::3])"
   ]
  },
  {
   "cell_type": "code",
   "execution_count": 263,
   "metadata": {
    "slideshow": {
     "slide_type": "subslide"
    }
   },
   "outputs": [
    {
     "name": "stdout",
     "output_type": "stream",
     "text": [
      "1st char: s\n",
      "last item: t\n",
      "1st 3 items: str\n",
      "2nd to 5th items: trin\n",
      "last 3 items: est\n",
      "every third element starting with the 3rd element: rgs\n"
     ]
    }
   ],
   "source": [
    "# Indexing and slicing operations also apply to strings as well\n",
    "s = \"stringiest\"\n",
    "print('1st char:', s[0])\n",
    "print('last item:', s[-1])\n",
    "print('1st 3 items:', s[:3])  # get slice of array\n",
    "print('2nd to 5th items:', s[1:5])\n",
    "print('last 3 items:', s[-3:])\n",
    "print('every third element starting with the 3rd element:', s[2::3])"
   ]
  },
  {
   "cell_type": "code",
   "execution_count": 264,
   "metadata": {
    "slideshow": {
     "slide_type": "subslide"
    }
   },
   "outputs": [
    {
     "name": "stdout",
     "output_type": "stream",
     "text": [
      "[4, 1, 2, 3]\n",
      "[4, 20, 40, 50, 3]\n"
     ]
    }
   ],
   "source": [
    "# lists are mutable\n",
    "a = [0, 1, 2, 3]\n",
    "a[0] = 4\n",
    "print(a)\n",
    "\n",
    "# Python is amazingly consistent.  You can get a slice of an array and you can set a slice of an array\n",
    "a[1:3] = [20, 40, 50]\n",
    "print(a)"
   ]
  },
  {
   "cell_type": "code",
   "execution_count": 265,
   "metadata": {
    "slideshow": {
     "slide_type": "subslide"
    }
   },
   "outputs": [
    {
     "name": "stdout",
     "output_type": "stream",
     "text": [
      "['__add__', '__class__', '__contains__', '__delattr__', '__delitem__', '__dir__', '__doc__', '__eq__', '__format__', '__ge__', '__getattribute__', '__getitem__', '__gt__', '__hash__', '__iadd__', '__imul__', '__init__', '__init_subclass__', '__iter__', '__le__', '__len__', '__lt__', '__mul__', '__ne__', '__new__', '__reduce__', '__reduce_ex__', '__repr__', '__reversed__', '__rmul__', '__setattr__', '__setitem__', '__sizeof__', '__str__', '__subclasshook__', 'append', 'clear', 'copy', 'count', 'extend', 'index', 'insert', 'pop', 'remove', 'reverse', 'sort']\n"
     ]
    }
   ],
   "source": [
    "# Let's take a quick look at the members of our list instance\n",
    "print(dir(a))"
   ]
  },
  {
   "cell_type": "code",
   "execution_count": 266,
   "metadata": {
    "slideshow": {
     "slide_type": "subslide"
    }
   },
   "outputs": [
    {
     "name": "stdout",
     "output_type": "stream",
     "text": [
      "a before: [4, 20, 40, 50, 3]\n",
      "a after: [4, 20, 40, 50, 3, 10]\n"
     ]
    }
   ],
   "source": [
    "# Add an item to the list\n",
    "print('a before:', a)\n",
    "a.append(10)\n",
    "print('a after:', a)"
   ]
  },
  {
   "cell_type": "code",
   "execution_count": 267,
   "metadata": {
    "slideshow": {
     "slide_type": "subslide"
    }
   },
   "outputs": [
    {
     "data": {
      "text/plain": [
       "'one small step for man'"
      ]
     },
     "execution_count": 267,
     "metadata": {},
     "output_type": "execute_result"
    }
   ],
   "source": [
    "# There is no StringBuilder class instead build a list of strings\n",
    "# and concatenate them using strings join method\n",
    "pieces = ['one', 'small', 'step', 'for', 'man']\n",
    "\" \".join(pieces)"
   ]
  },
  {
   "cell_type": "code",
   "execution_count": 268,
   "metadata": {
    "slideshow": {
     "slide_type": "subslide"
    }
   },
   "outputs": [
    {
     "name": "stdout",
     "output_type": "stream",
     "text": [
      "[-2, -1, 0, 1]\n"
     ]
    }
   ],
   "source": [
    "# combine 2 lists into a single list\n",
    "print([-2, -1] + [0, 1])"
   ]
  },
  {
   "cell_type": "markdown",
   "metadata": {
    "slideshow": {
     "slide_type": "slide"
    }
   },
   "source": [
    "### tuples (immutable list)"
   ]
  },
  {
   "cell_type": "code",
   "execution_count": 269,
   "metadata": {
    "slideshow": {
     "slide_type": "subslide"
    }
   },
   "outputs": [
    {
     "name": "stdout",
     "output_type": "stream",
     "text": [
      "t1: (1,)\n",
      "t2: (1, 2)\n"
     ]
    }
   ],
   "source": [
    "# Note:it's easy to accidentally turn something into a tuple with an errant comma\n",
    "t1= 1,\n",
    "t2 = 1, 2\n",
    "print('t1:', t1)\n",
    "print('t2:', t2)"
   ]
  },
  {
   "cell_type": "code",
   "execution_count": 270,
   "metadata": {
    "slideshow": {
     "slide_type": "subslide"
    }
   },
   "outputs": [
    {
     "name": "stdout",
     "output_type": "stream",
     "text": [
      "t1: (1,)\n",
      "t2: (1, 2)\n"
     ]
    }
   ],
   "source": [
    "# It's more common to define tuples with parenthesis around the values\n",
    "t1 = (1,)  # comma is necessary\n",
    "t2 = (1, 2)\n",
    "print('t1:', t1)\n",
    "print('t2:', t2)"
   ]
  },
  {
   "cell_type": "code",
   "execution_count": 271,
   "metadata": {
    "slideshow": {
     "slide_type": "subslide"
    }
   },
   "outputs": [
    {
     "name": "stdout",
     "output_type": "stream",
     "text": [
      "'tuple' object does not support item assignment\n"
     ]
    }
   ],
   "source": [
    "# tuples aren't mutable\n",
    "try:\n",
    "    t1[0] = 'this will raise an error'\n",
    "except TypeError as error:\n",
    "    print(error)"
   ]
  },
  {
   "cell_type": "code",
   "execution_count": 272,
   "metadata": {
    "slideshow": {
     "slide_type": "subslide"
    }
   },
   "outputs": [
    {
     "name": "stdout",
     "output_type": "stream",
     "text": [
      "(1, 3)\n"
     ]
    }
   ],
   "source": [
    "# indexing and slicing also works on tuples\n",
    "t3 = (0, 1, 2, 3, 4, 5)\n",
    "print(t3[1:-2:2])"
   ]
  },
  {
   "cell_type": "markdown",
   "metadata": {
    "slideshow": {
     "slide_type": "subslide"
    }
   },
   "source": [
    "So why use a tuple instead of a list?"
   ]
  },
  {
   "cell_type": "code",
   "execution_count": 273,
   "metadata": {
    "slideshow": {
     "slide_type": "fragment"
    }
   },
   "outputs": [],
   "source": [
    "# Reason 1: To prevent something from being changed accidentally\n",
    "STATUS_CHOICES = (\n",
    "    # (code, display_text pairs)\n",
    "    ('O', 'Open'),\n",
    "    ('C', 'Closed'),\n",
    ")"
   ]
  },
  {
   "cell_type": "markdown",
   "metadata": {
    "slideshow": {
     "slide_type": "fragment"
    }
   },
   "source": [
    "Reason 2:\n",
    "They're baked into the language.  A function takes a tuple of arguments and returns a tuple of values"
   ]
  },
  {
   "cell_type": "markdown",
   "metadata": {
    "slideshow": {
     "slide_type": "slide"
    }
   },
   "source": [
    "## Dictionaries"
   ]
  },
  {
   "cell_type": "markdown",
   "metadata": {
    "slideshow": {
     "slide_type": "fragment"
    }
   },
   "source": [
    "A dictionary (`dict` for short) is equivalent to a hashtable or JavaScript object"
   ]
  },
  {
   "cell_type": "code",
   "execution_count": 274,
   "metadata": {
    "slideshow": {
     "slide_type": "subslide"
    }
   },
   "outputs": [
    {
     "name": "stdout",
     "output_type": "stream",
     "text": [
      "empty_dict {}\n"
     ]
    }
   ],
   "source": [
    "empty_dict = {}\n",
    "print('empty_dict', empty_dict)"
   ]
  },
  {
   "cell_type": "code",
   "execution_count": 275,
   "metadata": {
    "slideshow": {
     "slide_type": "subslide"
    }
   },
   "outputs": [
    {
     "name": "stdout",
     "output_type": "stream",
     "text": [
      "dict_with_values {'name': 'Arthur', 'quest': 'To seek the grail', 'airspeed': 'African or European?', True: 'yes', 3: 'Number counted to', 'key_in_variable': 'Different from JavaScript'}\n"
     ]
    }
   ],
   "source": [
    "# Usually keys are strings, but anything that's hashable works\n",
    "variable_for_key = 'key_in_variable'\n",
    "dict_with_values = {\n",
    "    'name': 'Arthur',\n",
    "    'quest': 'To seek the grail',\n",
    "    'airspeed': 'African or European?',\n",
    "    True: 'yes',\n",
    "    3: 'Number counted to',\n",
    "    variable_for_key: \"Different from JavaScript\",\n",
    "}\n",
    "print('dict_with_values', dict_with_values)"
   ]
  },
  {
   "cell_type": "code",
   "execution_count": 276,
   "metadata": {
    "slideshow": {
     "slide_type": "subslide"
    }
   },
   "outputs": [
    {
     "name": "stdout",
     "output_type": "stream",
     "text": [
      "Arthur\n"
     ]
    }
   ],
   "source": [
    "# Access a value in a dict\n",
    "print(dict_with_values['name'])"
   ]
  },
  {
   "cell_type": "code",
   "execution_count": 277,
   "metadata": {
    "slideshow": {
     "slide_type": "subslide"
    }
   },
   "outputs": [
    {
     "name": "stdout",
     "output_type": "stream",
     "text": [
      "{'name': 'Arthur', 'quest': 'To seek the grail', 'airspeed': 'African or European?', True: 'yes', 3: 'Number counted to', 'key_in_variable': 'Different from JavaScript', 'color': 'red'}\n"
     ]
    }
   ],
   "source": [
    "# Set a value in a dict\n",
    "dict_with_values['color'] = 'red'\n",
    "print(dict_with_values)"
   ]
  },
  {
   "cell_type": "code",
   "execution_count": 278,
   "metadata": {
    "slideshow": {
     "slide_type": "subslide"
    }
   },
   "outputs": [
    {
     "name": "stdout",
     "output_type": "stream",
     "text": [
      "dict_keys(['name', 'quest', 'airspeed', True, 3, 'key_in_variable', 'color'])\n"
     ]
    }
   ],
   "source": [
    "# get keys of dict\n",
    "print(dict_with_values.keys())"
   ]
  },
  {
   "cell_type": "code",
   "execution_count": 279,
   "metadata": {
    "slideshow": {
     "slide_type": "subslide"
    }
   },
   "outputs": [
    {
     "name": "stdout",
     "output_type": "stream",
     "text": [
      "dict_values(['Arthur', 'To seek the grail', 'African or European?', 'yes', 'Number counted to', 'Different from JavaScript', 'red'])\n"
     ]
    }
   ],
   "source": [
    "# get values of dict\n",
    "print(dict_with_values.values())"
   ]
  },
  {
   "cell_type": "code",
   "execution_count": 280,
   "metadata": {
    "slideshow": {
     "slide_type": "subslide"
    }
   },
   "outputs": [
    {
     "name": "stdout",
     "output_type": "stream",
     "text": [
      "           name  Arthur\n",
      "          quest  To seek the grail\n",
      "       airspeed  African or European?\n",
      "              1  yes\n",
      "              3  Number counted to\n",
      "key_in_variable  Different from JavaScript\n",
      "          color  red\n"
     ]
    }
   ],
   "source": [
    "# iterate through key-value pairs of dict.\n",
    "# dicts retain the order in which keys are defined/added\n",
    "for key, value in dict_with_values.items():\n",
    "    print(f'{key:>15}  {value}')"
   ]
  },
  {
   "cell_type": "markdown",
   "metadata": {
    "slideshow": {
     "slide_type": "subslide"
    }
   },
   "source": [
    "Useful `dict` methods\n",
    "\n",
    "method | description\n",
    "------ | -----------\n",
    "`pop`  | remove an element from dict returning the value, a default may be provided\n",
    "`copy` | perform a shallow copy of the dict"
   ]
  },
  {
   "cell_type": "markdown",
   "metadata": {
    "slideshow": {
     "slide_type": "slide"
    }
   },
   "source": [
    "# Sets\n",
    "\n",
    "A collection of unique elements.  Sets are iterable, but don't retain the elements in the order they are added"
   ]
  },
  {
   "cell_type": "code",
   "execution_count": 281,
   "metadata": {
    "slideshow": {
     "slide_type": "fragment"
    }
   },
   "outputs": [
    {
     "name": "stdout",
     "output_type": "stream",
     "text": [
      "{1, 2, 3, 4}\n"
     ]
    }
   ],
   "source": [
    "# create a set from a list with two 3's\n",
    "a = set([4, 3, 2, 3, 1])\n",
    "print(a)"
   ]
  },
  {
   "cell_type": "code",
   "execution_count": 282,
   "metadata": {
    "slideshow": {
     "slide_type": "fragment"
    }
   },
   "outputs": [
    {
     "name": "stdout",
     "output_type": "stream",
     "text": [
      "{1, 2, 3, 4, 5}\n"
     ]
    }
   ],
   "source": [
    "a.add(4)  # There's already a 4 in the set\n",
    "a.add(5)  # No 5 in the set\n",
    "print(a)"
   ]
  },
  {
   "cell_type": "code",
   "execution_count": 283,
   "metadata": {
    "slideshow": {
     "slide_type": "subslide"
    }
   },
   "outputs": [],
   "source": [
    "empty_set = set()  # {} is an empty dict\n",
    "fibonacci = {1, 1, 2, 3, 5, 8, 13, 21}\n",
    "primes = {2, 3, 5, 7, 11, 13, 17}"
   ]
  },
  {
   "cell_type": "code",
   "execution_count": 284,
   "metadata": {
    "slideshow": {
     "slide_type": "fragment"
    }
   },
   "outputs": [
    {
     "name": "stdout",
     "output_type": "stream",
     "text": [
      "{13, 2, 3, 5}\n"
     ]
    }
   ],
   "source": [
    "print(fibonacci & primes)  # fibonacci and prime"
   ]
  },
  {
   "cell_type": "code",
   "execution_count": 285,
   "metadata": {
    "slideshow": {
     "slide_type": "fragment"
    }
   },
   "outputs": [
    {
     "name": "stdout",
     "output_type": "stream",
     "text": [
      "{1, 2, 3, 5, 7, 8, 11, 13, 17, 21}\n"
     ]
    }
   ],
   "source": [
    "print(fibonacci | primes)  # fibonacci or prime"
   ]
  },
  {
   "cell_type": "code",
   "execution_count": 286,
   "metadata": {
    "slideshow": {
     "slide_type": "fragment"
    }
   },
   "outputs": [
    {
     "name": "stdout",
     "output_type": "stream",
     "text": [
      "{8, 1, 21}\n"
     ]
    }
   ],
   "source": [
    "print(fibonacci - primes)  # fibonacci and not prime"
   ]
  },
  {
   "cell_type": "markdown",
   "metadata": {
    "slideshow": {
     "slide_type": "slide"
    }
   },
   "source": [
    "# Python truthiness (`and` `or` revisited)\n",
    "\n",
    "value | bool(value)\n",
    "----- | ------------\n",
    "`True`  | `True`\n",
    "`False` | `False`\n",
    "`None`  | `False`\n",
    "`0`     | False\n",
    "Nonzero | True\n",
    "empty string | False\n",
    "string of a least 1 character | True\n",
    "empty `list`, `tuple`, `dict` or `set` | False\n",
    "`list`, `tuple`, `dict`, or `set` with items in it | True"
   ]
  },
  {
   "cell_type": "code",
   "execution_count": 287,
   "metadata": {
    "slideshow": {
     "slide_type": "subslide"
    }
   },
   "outputs": [
    {
     "name": "stdout",
     "output_type": "stream",
     "text": [
      "foo\n",
      "set()\n"
     ]
    }
   ],
   "source": [
    "# The or operator doesn't necessarily return True or False.\n",
    "# Instead it returns the 1st \"True\" value\n",
    "print(0 or [] or 'foo' or set() or 'bar')\n",
    "\n",
    "# Unless everything is \"False\" in which case it returns the last \"False\" value\n",
    "print(0 or [] or set())"
   ]
  },
  {
   "cell_type": "code",
   "execution_count": 288,
   "metadata": {
    "slideshow": {
     "slide_type": "subslide"
    }
   },
   "outputs": [
    {
     "name": "stdout",
     "output_type": "stream",
     "text": [
      "0\n",
      "foo\n"
     ]
    }
   ],
   "source": [
    "# The and operator doesn't necessarily return True or False.\n",
    "# Instead it returns the 1st \"False\" value\n",
    "print([3] and 'foo' and 0 and {})\n",
    "\n",
    "# Unless everything is True in which case it returns the last \"True value\"\n",
    "print([3] and 'foo')"
   ]
  },
  {
   "cell_type": "markdown",
   "metadata": {
    "slideshow": {
     "slide_type": "slide"
    }
   },
   "source": [
    "# Functions in Python"
   ]
  },
  {
   "cell_type": "markdown",
   "metadata": {
    "slideshow": {
     "slide_type": "slide"
    }
   },
   "source": [
    "## Function Arguments"
   ]
  },
  {
   "cell_type": "code",
   "execution_count": 289,
   "metadata": {
    "slideshow": {
     "slide_type": "subslide"
    }
   },
   "outputs": [],
   "source": [
    "def my_func(a, b='bravo', c='charlie', *args, **kwargs):\n",
    "    print('     a:', a)\n",
    "    print('     b:', b)\n",
    "    print('     c:', c)\n",
    "    print('  args:', args)\n",
    "    print('kwargs:', kwargs)"
   ]
  },
  {
   "cell_type": "code",
   "execution_count": 290,
   "metadata": {
    "slideshow": {
     "slide_type": "subslide"
    }
   },
   "outputs": [
    {
     "name": "stdout",
     "output_type": "stream",
     "text": [
      "     a: A\n",
      "     b: bravo\n",
      "     c: charlie\n",
      "  args: ()\n",
      "kwargs: {}\n"
     ]
    }
   ],
   "source": [
    "# def my_func(a, b='bravo', c='charlie', *args, **kwargs):\n",
    "my_func('A')"
   ]
  },
  {
   "cell_type": "code",
   "execution_count": 291,
   "metadata": {
    "slideshow": {
     "slide_type": "subslide"
    }
   },
   "outputs": [
    {
     "name": "stdout",
     "output_type": "stream",
     "text": [
      "     a: A\n",
      "     b: B\n",
      "     c: charlie\n",
      "  args: ()\n",
      "kwargs: {}\n"
     ]
    }
   ],
   "source": [
    "# def my_func(a, b='bravo', c='charlie', *args, **kwargs):\n",
    "\n",
    "# Override one of the default values\n",
    "my_func('A', 'B')"
   ]
  },
  {
   "cell_type": "code",
   "execution_count": 292,
   "metadata": {
    "slideshow": {
     "slide_type": "subslide"
    }
   },
   "outputs": [
    {
     "name": "stdout",
     "output_type": "stream",
     "text": [
      "     a: A\n",
      "     b: bravo\n",
      "     c: C\n",
      "  args: ()\n",
      "kwargs: {}\n"
     ]
    }
   ],
   "source": [
    "# def my_func(a, b='bravo', c='charlie', *args, **kwargs):\n",
    "\n",
    "# Use keyword argument syntax to override a specific default value\n",
    "my_func('A', c='C')"
   ]
  },
  {
   "cell_type": "code",
   "execution_count": 293,
   "metadata": {
    "slideshow": {
     "slide_type": "subslide"
    }
   },
   "outputs": [
    {
     "name": "stdout",
     "output_type": "stream",
     "text": [
      "     a: A\n",
      "     b: B\n",
      "     c: C\n",
      "  args: ('D1', 'D2')\n",
      "kwargs: {}\n"
     ]
    }
   ],
   "source": [
    "# def my_func(a, b='bravo', c='charlie', *args, **kwargs):\n",
    "\n",
    "# Use more than 3 positional arguments\n",
    "my_func('A', 'B', 'C', 'D1', 'D2')"
   ]
  },
  {
   "cell_type": "code",
   "execution_count": 294,
   "metadata": {
    "slideshow": {
     "slide_type": "subslide"
    }
   },
   "outputs": [
    {
     "name": "stdout",
     "output_type": "stream",
     "text": [
      "     a: A\n",
      "     b: bravo\n",
      "     c: charlie\n",
      "  args: ()\n",
      "kwargs: {'color': 'green'}\n"
     ]
    }
   ],
   "source": [
    "# def my_func(a, b='bravo', c='charlie', *args, **kwargs):\n",
    "\n",
    "# Use a kwargs argument\n",
    "my_func('A', color='green')"
   ]
  },
  {
   "cell_type": "code",
   "execution_count": 295,
   "metadata": {
    "slideshow": {
     "slide_type": "subslide"
    }
   },
   "outputs": [
    {
     "name": "stdout",
     "output_type": "stream",
     "text": [
      "     a: A\n",
      "     b: B\n",
      "     c: charlie\n",
      "  args: ()\n",
      "kwargs: {'color': 'red'}\n"
     ]
    }
   ],
   "source": [
    "# def my_func(a, b='bravo', c='charlie', *args, **kwargs):\n",
    "\n",
    "# You can mix cherry-picking defaults and kwargs\n",
    "my_func('A', b='B', color='red')"
   ]
  },
  {
   "cell_type": "markdown",
   "metadata": {
    "slideshow": {
     "slide_type": "subslide"
    }
   },
   "source": [
    "The end result of this flexibility in function arguments is that it is easy to add capabilties to an existing function without breaking code that uses it."
   ]
  },
  {
   "cell_type": "markdown",
   "metadata": {
    "slideshow": {
     "slide_type": "slide"
    }
   },
   "source": [
    "## Function Return Values\n",
    "\n",
    "Functions return a single value or a tuple of values"
   ]
  },
  {
   "cell_type": "code",
   "execution_count": 296,
   "metadata": {
    "slideshow": {
     "slide_type": "subslide"
    }
   },
   "outputs": [
    {
     "name": "stdout",
     "output_type": "stream",
     "text": [
      "42\n"
     ]
    }
   ],
   "source": [
    "# if the function returns one value\n",
    "def one_value():\n",
    "    return 42\n",
    "\n",
    "print(one_value())"
   ]
  },
  {
   "cell_type": "code",
   "execution_count": 297,
   "metadata": {
    "slideshow": {
     "slide_type": "subslide"
    }
   },
   "outputs": [
    {
     "name": "stdout",
     "output_type": "stream",
     "text": [
      "(1, 4)\n"
     ]
    }
   ],
   "source": [
    "def two_values():\n",
    "    return 1, 4\n",
    "\n",
    "print(two_values())"
   ]
  },
  {
   "cell_type": "code",
   "execution_count": 298,
   "metadata": {
    "slideshow": {
     "slide_type": "fragment"
    }
   },
   "outputs": [
    {
     "name": "stdout",
     "output_type": "stream",
     "text": [
      "1\n",
      "4\n"
     ]
    }
   ],
   "source": [
    "# using this syntax you can unpack the tuple into individual values\n",
    "a, b = two_values()\n",
    "print(a)\n",
    "print(b)"
   ]
  },
  {
   "cell_type": "code",
   "execution_count": 299,
   "metadata": {
    "slideshow": {
     "slide_type": "subslide"
    }
   },
   "outputs": [
    {
     "name": "stdout",
     "output_type": "stream",
     "text": [
      "None\n"
     ]
    }
   ],
   "source": [
    "# If there's no return statement, a None value is returned\n",
    "def no_return():\n",
    "    pass\n",
    "\n",
    "print(no_return())"
   ]
  },
  {
   "cell_type": "code",
   "execution_count": 300,
   "metadata": {
    "slideshow": {
     "slide_type": "subslide"
    }
   },
   "outputs": [
    {
     "name": "stdout",
     "output_type": "stream",
     "text": [
      "first: 0\n",
      "last: 4\n",
      "the_rest [1, 2, 3]\n"
     ]
    }
   ],
   "source": [
    "def many_values():\n",
    "    return 0, 1, 2, 3, 4\n",
    "\n",
    "# similar to how *args works in arguments we can do the following\n",
    "first, *the_rest, last = many_values()\n",
    "\n",
    "print('first:', first)\n",
    "print('last:', last)\n",
    "print('the_rest', the_rest)"
   ]
  },
  {
   "cell_type": "markdown",
   "metadata": {
    "slideshow": {
     "slide_type": "slide"
    }
   },
   "source": [
    "## Lambda Functions\n",
    "\n",
    "Syntax\n",
    "\n",
    "`lambda arg1[, arg2 ...] : expression`"
   ]
  },
  {
   "cell_type": "code",
   "execution_count": 301,
   "metadata": {
    "slideshow": {
     "slide_type": "subslide"
    }
   },
   "outputs": [
    {
     "name": "stdout",
     "output_type": "stream",
     "text": [
      "[1, 4, 9, 16]\n",
      "[1, 4, 9, 16]\n"
     ]
    }
   ],
   "source": [
    "def square(x):\n",
    "    return x ** 2\n",
    "\n",
    "a = list(range(1, 5))\n",
    "print(list(map(square, a)))\n",
    "print(list(map(lambda x: x**2, a)))\n"
   ]
  },
  {
   "cell_type": "markdown",
   "metadata": {
    "slideshow": {
     "slide_type": "slide"
    }
   },
   "source": [
    "## Generators"
   ]
  },
  {
   "cell_type": "code",
   "execution_count": 302,
   "metadata": {
    "slideshow": {
     "slide_type": "fragment"
    }
   },
   "outputs": [],
   "source": [
    "def my_range(start, stop):\n",
    "    i = start\n",
    "    while i <= stop:\n",
    "        yield i\n",
    "        i += 1"
   ]
  },
  {
   "cell_type": "code",
   "execution_count": 303,
   "metadata": {
    "slideshow": {
     "slide_type": "subslide"
    }
   },
   "outputs": [
    {
     "name": "stdout",
     "output_type": "stream",
     "text": [
      "<generator object my_range at 0x7f95ce69fc50>\n"
     ]
    }
   ],
   "source": [
    "# by using the yield keyword the function no longer returns \n",
    "# an integer or a list of integers it now returns a generator\n",
    "# object\n",
    "print(my_range(1, 5))"
   ]
  },
  {
   "cell_type": "code",
   "execution_count": 304,
   "metadata": {
    "slideshow": {
     "slide_type": "subslide"
    }
   },
   "outputs": [
    {
     "name": "stdout",
     "output_type": "stream",
     "text": [
      "['__class__', '__del__', '__delattr__', '__dir__', '__doc__', '__eq__', '__format__', '__ge__', '__getattribute__', '__gt__', '__hash__', '__init__', '__init_subclass__', '__iter__', '__le__', '__lt__', '__name__', '__ne__', '__new__', '__next__', '__qualname__', '__reduce__', '__reduce_ex__', '__repr__', '__setattr__', '__sizeof__', '__str__', '__subclasshook__', 'close', 'gi_code', 'gi_frame', 'gi_running', 'gi_yieldfrom', 'send', 'throw']\n"
     ]
    }
   ],
   "source": [
    "# the generator object returned by my_range has a __iter__ method so it's iterable\n",
    "g = my_range(1, 4)\n",
    "print(dir(g))"
   ]
  },
  {
   "cell_type": "code",
   "execution_count": 305,
   "metadata": {
    "slideshow": {
     "slide_type": "subslide"
    }
   },
   "outputs": [
    {
     "name": "stdout",
     "output_type": "stream",
     "text": [
      "1\n",
      "2\n",
      "3\n",
      "4\n",
      "5\n",
      "[6, 7, 8, 9, 10]\n"
     ]
    }
   ],
   "source": [
    "# Generator can be used like any other iterable\n",
    "for i in my_range(1, 5):\n",
    "    print(i)\n",
    "    \n",
    "print(list(my_range(6, 10)))"
   ]
  },
  {
   "cell_type": "markdown",
   "metadata": {
    "slideshow": {
     "slide_type": "slide"
    }
   },
   "source": [
    "## ... Comprehensions\n",
    "\n",
    "sorthand for building lists, sets, dicts, and tuples"
   ]
  },
  {
   "cell_type": "code",
   "execution_count": 306,
   "metadata": {
    "slideshow": {
     "slide_type": "fragment"
    }
   },
   "outputs": [
    {
     "data": {
      "text/plain": [
       "[0, 2, 4, 6, 8]"
      ]
     },
     "execution_count": 306,
     "metadata": {},
     "output_type": "execute_result"
    }
   ],
   "source": [
    "# build a list of even numbers\n",
    "[i * 2 for i in range(5)]"
   ]
  },
  {
   "cell_type": "code",
   "execution_count": 307,
   "metadata": {
    "slideshow": {
     "slide_type": "subslide"
    }
   },
   "outputs": [
    {
     "name": "stdout",
     "output_type": "stream",
     "text": [
      "['__abs__', '__add__', '__and__', '__bool__', '__ceil__', '__class__', '__delattr__', '__dir__', '__divmod__', '__doc__', '__eq__', '__float__', '__floor__', '__floordiv__', '__format__', '__ge__', '__getattribute__', '__getnewargs__', '__gt__', '__hash__', '__index__', '__init__', '__init_subclass__', '__int__', '__invert__', '__le__', '__lshift__', '__lt__', '__mod__', '__mul__', '__ne__', '__neg__', '__new__', '__or__', '__pos__', '__pow__', '__radd__', '__rand__', '__rdivmod__', '__reduce__', '__reduce_ex__', '__repr__', '__rfloordiv__', '__rlshift__', '__rmod__', '__rmul__', '__ror__', '__round__', '__rpow__', '__rrshift__', '__rshift__', '__rsub__', '__rtruediv__', '__rxor__', '__setattr__', '__sizeof__', '__str__', '__sub__', '__subclasshook__', '__truediv__', '__trunc__', '__xor__']\n"
     ]
    }
   ],
   "source": [
    "# build a list using a filter\n",
    "i = 5\n",
    "print([s for s in dir(i) if s.startswith('__')])"
   ]
  },
  {
   "cell_type": "code",
   "execution_count": 308,
   "metadata": {
    "slideshow": {
     "slide_type": "subslide"
    }
   },
   "outputs": [
    {
     "data": {
      "text/plain": [
       "{' ', 'd', 'e', 'h', 'l', 'o', 'r', 'w'}"
      ]
     },
     "execution_count": 308,
     "metadata": {},
     "output_type": "execute_result"
    }
   ],
   "source": [
    "# build a set\n",
    "{c for c in 'hello world'}"
   ]
  },
  {
   "cell_type": "code",
   "execution_count": 309,
   "metadata": {
    "slideshow": {
     "slide_type": "subslide"
    }
   },
   "outputs": [
    {
     "data": {
      "text/plain": [
       "{'a': 97, 'b': 98, 'c': 99, 'd': 100, 'e': 101, 'f': 102, 'g': 103}"
      ]
     },
     "execution_count": 309,
     "metadata": {},
     "output_type": "execute_result"
    }
   ],
   "source": [
    "# build a dict\n",
    "{c: ord(c) for c in 'abcdefg'}"
   ]
  },
  {
   "cell_type": "code",
   "execution_count": 310,
   "metadata": {
    "slideshow": {
     "slide_type": "subslide"
    }
   },
   "outputs": [
    {
     "data": {
      "text/plain": [
       "<generator object <genexpr> at 0x7f95ce6b0678>"
      ]
     },
     "execution_count": 310,
     "metadata": {},
     "output_type": "execute_result"
    }
   ],
   "source": [
    "# build a tuple (this doesn't work)\n",
    "(2 ** i for i in range(5))"
   ]
  },
  {
   "cell_type": "code",
   "execution_count": 311,
   "metadata": {
    "slideshow": {
     "slide_type": "fragment"
    }
   },
   "outputs": [
    {
     "data": {
      "text/plain": [
       "(1, 2, 4, 8, 16)"
      ]
     },
     "execution_count": 311,
     "metadata": {},
     "output_type": "execute_result"
    }
   ],
   "source": [
    "# but we can turn an iterable into a tuple\n",
    "tuple(2 ** i for i in range(5))"
   ]
  }
 ],
 "metadata": {
  "celltoolbar": "Slideshow",
  "kernelspec": {
   "display_name": "Python 3",
   "language": "python",
   "name": "python3"
  },
  "language_info": {
   "codemirror_mode": {
    "name": "ipython",
    "version": 3
   },
   "file_extension": ".py",
   "mimetype": "text/x-python",
   "name": "python",
   "nbconvert_exporter": "python",
   "pygments_lexer": "ipython3",
   "version": "3.6.9"
  }
 },
 "nbformat": 4,
 "nbformat_minor": 4
}
