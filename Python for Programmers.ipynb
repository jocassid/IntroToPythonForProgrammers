{
 "cells": [
  {
   "cell_type": "markdown",
   "metadata": {},
   "source": [
    "# Python for Programmers\n",
    "\n",
    "An introduction to Python for people who have programmed in other languages"
   ]
  },
  {
   "cell_type": "markdown",
   "metadata": {},
   "source": [
    "## Python in a nutshell\n",
    "\n",
    "* multi-paradigm language: procedural, object-oriented, functional\n",
    "* interpreter automatically compiles and runs bytecode\n",
    "* open source\n",
    "* cross platform\n",
    "* https://python.org is the website\n",
    "* Use version 3.4 or later\n",
    "* Multiple implentations: C Python (the main one), PyPy, MicroPython"
   ]
  },
  {
   "cell_type": "markdown",
   "metadata": {},
   "source": [
    "\"Python is the second best language for everything\""
   ]
  },
  {
   "cell_type": "markdown",
   "metadata": {},
   "source": [
    "Areas where Python is the leading language:\n",
    "    \n",
    "* Data science/analytics (Jupyter, Pandas/Numpy, Scikit-learn, etc)\n",
    "* Teaching programming\n",
    "* Cybersecurity"
   ]
  },
  {
   "cell_type": "markdown",
   "metadata": {},
   "source": [
    "## Starting the interpreter"
   ]
  },
  {
   "cell_type": "markdown",
   "metadata": {},
   "source": [
    "### From the Start menu\n",
    "\n",
    "![GitHub Logo](open_interpreter.png)"
   ]
  },
  {
   "cell_type": "markdown",
   "metadata": {},
   "source": [
    "### running a script from the command line\n",
    "`python.exe my_program.py` "
   ]
  },
  {
   "cell_type": "markdown",
   "metadata": {},
   "source": [
    "### running the interpreter in interactive mode\n",
    "`python.exe`\n",
    "\n",
    "![Interactive Prompt](interactive_prompt.png)"
   ]
  },
  {
   "cell_type": "markdown",
   "metadata": {},
   "source": [
    "### run some code before going to an interactive prompt\n",
    "`python.exe -i some_code.py`"
   ]
  },
  {
   "cell_type": "markdown",
   "metadata": {},
   "source": [
    "## Interpreter basics\n",
    "\n",
    "* type code then hit enter to run\n",
    "* the value of expression (if any) will be output on the next line\n",
    "* use up and down arrows to navigate through previous expressions"
   ]
  },
  {
   "cell_type": "markdown",
   "metadata": {},
   "source": [
    "## Hello World"
   ]
  },
  {
   "cell_type": "code",
   "execution_count": 67,
   "metadata": {},
   "outputs": [
    {
     "name": "stdout",
     "output_type": "stream",
     "text": [
      "hello world!\n"
     ]
    }
   ],
   "source": [
    "print('hello', 'world!')"
   ]
  },
  {
   "cell_type": "markdown",
   "metadata": {},
   "source": [
    "## Getting help inside the interpreter"
   ]
  },
  {
   "cell_type": "markdown",
   "metadata": {},
   "source": [
    "`dir` function lists the symbols within a namespace (scope)"
   ]
  },
  {
   "cell_type": "code",
   "execution_count": 68,
   "metadata": {},
   "outputs": [
    {
     "name": "stdout",
     "output_type": "stream",
     "text": [
      "['Decimal', 'In', 'Out', '_', '_5', '__', '___', '__builtin__', '__builtins__', '__doc__', '__loader__', '__name__', '__package__', '__spec__', '_dh', '_i', '_i1', '_i10', '_i11', '_i12', '_i13', '_i14', '_i15', '_i16', '_i17', '_i18', '_i19', '_i2', '_i20', '_i21', '_i22', '_i23', '_i24', '_i25', '_i26', '_i27', '_i28', '_i29', '_i3', '_i30', '_i31', '_i32', '_i33', '_i34', '_i35', '_i36', '_i37', '_i38', '_i39', '_i4', '_i40', '_i41', '_i42', '_i43', '_i44', '_i45', '_i46', '_i47', '_i48', '_i49', '_i5', '_i50', '_i51', '_i52', '_i53', '_i54', '_i55', '_i56', '_i57', '_i58', '_i59', '_i6', '_i60', '_i61', '_i62', '_i63', '_i64', '_i65', '_i66', '_i67', '_i68', '_i7', '_i8', '_i9', '_ih', '_ii', '_iii', '_oh', 'a', 'a_false_thing', 'a_floating_point', 'a_null_thing', 'a_true_thing', 'an_integer', 'another_floating_point', 'complex', 'complex_squared', 'decimal_sum', 'exit', 'fp_sum', 'get_ipython', 'i', 'imaginary', 'imaginary_squared', 'n', 'pi', 'quit', 'quote', 's']\n"
     ]
    }
   ],
   "source": [
    "# With no arguments show the symbols in the current namespace\n",
    "print(dir())"
   ]
  },
  {
   "cell_type": "code",
   "execution_count": 69,
   "metadata": {},
   "outputs": [
    {
     "name": "stdout",
     "output_type": "stream",
     "text": [
      "['__add__', '__class__', '__contains__', '__delattr__', '__dir__', '__doc__', '__eq__', '__format__', '__ge__', '__getattribute__', '__getitem__', '__getnewargs__', '__gt__', '__hash__', '__init__', '__init_subclass__', '__iter__', '__le__', '__len__', '__lt__', '__mod__', '__mul__', '__ne__', '__new__', '__reduce__', '__reduce_ex__', '__repr__', '__rmod__', '__rmul__', '__setattr__', '__sizeof__', '__str__', '__subclasshook__', 'capitalize', 'casefold', 'center', 'count', 'encode', 'endswith', 'expandtabs', 'find', 'format', 'format_map', 'index', 'isalnum', 'isalpha', 'isascii', 'isdecimal', 'isdigit', 'isidentifier', 'islower', 'isnumeric', 'isprintable', 'isspace', 'istitle', 'isupper', 'join', 'ljust', 'lower', 'lstrip', 'maketrans', 'partition', 'replace', 'rfind', 'rindex', 'rjust', 'rpartition', 'rsplit', 'rstrip', 'split', 'splitlines', 'startswith', 'strip', 'swapcase', 'title', 'translate', 'upper', 'zfill']\n"
     ]
    }
   ],
   "source": [
    "# let's pass it a string\n",
    "print(dir('hola'))"
   ]
  },
  {
   "cell_type": "markdown",
   "metadata": {},
   "source": [
    "`help` function shows help text for the specified item.  In the terminal this information is displayed using the `more` (or `less`) program. 'f' and 'b' keys will move forward and back (or up and down arrow keys).  Press 'q' key to quit"
   ]
  },
  {
   "cell_type": "code",
   "execution_count": 70,
   "metadata": {},
   "outputs": [
    {
     "name": "stdout",
     "output_type": "stream",
     "text": [
      "Help on built-in function upper:\n",
      "\n",
      "upper() method of builtins.str instance\n",
      "    Return a copy of the string converted to uppercase.\n",
      "\n"
     ]
    }
   ],
   "source": [
    "# let's look at help text for a strings upper method\n",
    "help('hola'.upper)"
   ]
  },
  {
   "cell_type": "markdown",
   "metadata": {},
   "source": [
    "## Numeric data types"
   ]
  },
  {
   "cell_type": "code",
   "execution_count": 71,
   "metadata": {},
   "outputs": [
    {
     "name": "stdout",
     "output_type": "stream",
     "text": [
      "5 5.5 6.022e+23\n"
     ]
    }
   ],
   "source": [
    "# ints and floating point that should be familar from any language based on C or FORTRAN\n",
    "an_integer = 5\n",
    "a_floating_point = 5.5\n",
    "another_floating_point = 6.022e23\n",
    "print(an_integer, a_floating_point, another_floating_point)"
   ]
  },
  {
   "cell_type": "code",
   "execution_count": 72,
   "metadata": {},
   "outputs": [
    {
     "name": "stdout",
     "output_type": "stream",
     "text": [
      "fp_sum 3.3000000000000003\n",
      "decimal_sum 3.3\n"
     ]
    }
   ],
   "source": [
    "# Standard library has decimal type to avoid binary rounding errors.\n",
    "# This is helpful when dealing with monetary values\n",
    "from decimal import Decimal\n",
    "\n",
    "fp_sum = 1.1 + 2.2\n",
    "print('fp_sum', fp_sum)\n",
    "\n",
    "decimal_sum = Decimal('1.1') + Decimal('2.2')\n",
    "print('decimal_sum', decimal_sum)"
   ]
  },
  {
   "cell_type": "code",
   "execution_count": 73,
   "metadata": {},
   "outputs": [
    {
     "name": "stdout",
     "output_type": "stream",
     "text": [
      "1j (-1+0j)\n",
      "(3+4j) (-7+24j)\n"
     ]
    }
   ],
   "source": [
    "# fun fact, Python supports imaginary and complex numbers\n",
    "imaginary = 1j\n",
    "imaginary_squared = imaginary ** 2\n",
    "print(imaginary, imaginary_squared)\n",
    "\n",
    "complex = 3 + 4j\n",
    "complex_squared = complex ** 2\n",
    "print(complex, complex_squared)"
   ]
  },
  {
   "cell_type": "markdown",
   "metadata": {},
   "source": [
    "## Boolean and \"Null\" constants"
   ]
  },
  {
   "cell_type": "code",
   "execution_count": 74,
   "metadata": {},
   "outputs": [
    {
     "name": "stdout",
     "output_type": "stream",
     "text": [
      "a_true_thing True\n",
      "a_false_thing False\n",
      "a_null_thing None\n"
     ]
    }
   ],
   "source": [
    "# Note the capitalization of these constants\n",
    "a_true_thing = True\n",
    "a_false_thing = False\n",
    "a_null_thing = None\n",
    "print('a_true_thing', a_true_thing)\n",
    "print('a_false_thing', a_false_thing)\n",
    "print('a_null_thing', a_null_thing)"
   ]
  },
  {
   "cell_type": "markdown",
   "metadata": {},
   "source": [
    "## Strings"
   ]
  },
  {
   "cell_type": "code",
   "execution_count": 75,
   "metadata": {},
   "outputs": [
    {
     "name": "stdout",
     "output_type": "stream",
     "text": [
      "In single quotes (\")\n",
      "In double quotes (')\n"
     ]
    }
   ],
   "source": [
    "# strings can be enclosed with single or double quotes\n",
    "# whichever you use, you don't need to escape the other kind of quote\n",
    "print('In single quotes (\")')\n",
    "print(\"In double quotes (')\")"
   ]
  },
  {
   "cell_type": "code",
   "execution_count": 76,
   "metadata": {},
   "outputs": [
    {
     "name": "stdout",
     "output_type": "stream",
     "text": [
      "This is could be a really long string that could extend way off the screen\n"
     ]
    }
   ],
   "source": [
    "# Two string literals next to each other are automatically concatenated together\n",
    "print(\n",
    "    \"This is could be a really long string \"\n",
    "    \"that could extend way off the screen\"\n",
    ")"
   ]
  },
  {
   "cell_type": "code",
   "execution_count": 77,
   "metadata": {},
   "outputs": [
    {
     "name": "stdout",
     "output_type": "stream",
     "text": [
      "1st line all the way to the left\n",
      "    2nd line indented with 4 characters\n"
     ]
    }
   ],
   "source": [
    "# Using 3 quote characters creates a string where whitespace is preseved\n",
    "print(\"\"\"1st line all the way to the left\n",
    "    2nd line indented with 4 characters\"\"\")"
   ]
  },
  {
   "cell_type": "code",
   "execution_count": 78,
   "metadata": {},
   "outputs": [
    {
     "name": "stdout",
     "output_type": "stream",
     "text": [
      "'str' object does not support item assignment\n"
     ]
    }
   ],
   "source": [
    "# Strings aren't mutable\n",
    "quote = \"Hello world\"\n",
    "try:\n",
    "    quote[1] = 'u'\n",
    "except TypeError as error:\n",
    "    print(error)"
   ]
  },
  {
   "cell_type": "code",
   "execution_count": 79,
   "metadata": {},
   "outputs": [
    {
     "name": "stdout",
     "output_type": "stream",
     "text": [
      "quote is 11 characters in length\n"
     ]
    }
   ],
   "source": [
    "# get length of string\n",
    "print('quote is', len(quote), 'characters in length')"
   ]
  },
  {
   "cell_type": "markdown",
   "metadata": {},
   "source": [
    "### Task: write a regular expression that matches the '\\\\' character"
   ]
  },
  {
   "cell_type": "markdown",
   "metadata": {},
   "source": [
    "#### Problem 1:\n",
    "'\\\\' is the escape character in regular expressions. So we have `\\\\`"
   ]
  },
  {
   "cell_type": "markdown",
   "metadata": {},
   "source": [
    "#### Problem 2:\n",
    "'\\\\' is the escape character in C, Java, C#, Python, etc.  So we have `\\\\\\\\`"
   ]
  },
  {
   "cell_type": "code",
   "execution_count": 80,
   "metadata": {},
   "outputs": [
    {
     "name": "stdout",
     "output_type": "stream",
     "text": [
      "\\\\\n"
     ]
    }
   ],
   "source": [
    "# Solution: raw string syntax which disables '\\' as an escape character\n",
    "print(r'\\\\')"
   ]
  },
  {
   "cell_type": "markdown",
   "metadata": {},
   "source": [
    "### String formatting\n",
    "See https://docs.python.org/3/library/string.html#format-string-syntax for details"
   ]
  },
  {
   "cell_type": "code",
   "execution_count": 81,
   "metadata": {},
   "outputs": [
    {
     "name": "stdout",
     "output_type": "stream",
     "text": [
      "4  3.14159  helloworld\n"
     ]
    }
   ],
   "source": [
    "# using f-strings\n",
    "from math import pi\n",
    "a = 4\n",
    "print(f\"{a}  {pi:.5f}  {'hello' + 'world'}\")"
   ]
  },
  {
   "cell_type": "code",
   "execution_count": 82,
   "metadata": {},
   "outputs": [
    {
     "name": "stdout",
     "output_type": "stream",
     "text": [
      "4  3.14159  helloworld\n"
     ]
    }
   ],
   "source": [
    "# using format method\n",
    "print(\"{}  {:.5f}  {}\".format(\n",
    "    a,\n",
    "    pi,\n",
    "    'hello' + 'world',\n",
    "))"
   ]
  },
  {
   "cell_type": "markdown",
   "metadata": {},
   "source": [
    "## Operators"
   ]
  },
  {
   "cell_type": "code",
   "execution_count": 83,
   "metadata": {},
   "outputs": [
    {
     "name": "stdout",
     "output_type": "stream",
     "text": [
      "3 / 2  = 1.5\n",
      "4 / 2  = 2.0\n",
      "3 // 2 = 1\n",
      "3 ** 2 = 9\n"
     ]
    }
   ],
   "source": [
    "# Most arithmatic operators are the same as in other C-based languages,\n",
    "# but here are some things to note\n",
    "\n",
    "print('3 / 2  =', 3 / 2)  # floating point division\n",
    "print('4 / 2  =', 4 / 2)  #   divides evenly, but you still get a float  \n",
    "print('3 // 2 =', 3 // 2) # performs integer division\n",
    "print('3 ** 2 =', 3 ** 2) # raise to exponent"
   ]
  },
  {
   "cell_type": "markdown",
   "metadata": {},
   "source": [
    "- No `++` or `--` operators in Python (numbers aren't mutable)\n",
    "- `+=`, `-=` operators are available"
   ]
  },
  {
   "cell_type": "code",
   "execution_count": 84,
   "metadata": {},
   "outputs": [
    {
     "name": "stdout",
     "output_type": "stream",
     "text": [
      "3 & 4  = 0b0\n",
      "3 | 2  = 0b11\n"
     ]
    }
   ],
   "source": [
    "# bit-wise and/or are used for things such as sets\n",
    "print('3 & 4  =', bin(3 & 4)) # and\n",
    "print('3 | 2  =', bin(3 | 2)) # or"
   ]
  },
  {
   "cell_type": "markdown",
   "metadata": {},
   "source": [
    "Logical operators are simply `not`, `and` and `or`"
   ]
  },
  {
   "cell_type": "markdown",
   "metadata": {},
   "source": [
    "## Branching and Looping\n",
    "Save wear and tear on your { } ( ) and ; keys by switching to Python!"
   ]
  },
  {
   "cell_type": "code",
   "execution_count": 85,
   "metadata": {},
   "outputs": [
    {
     "name": "stdout",
     "output_type": "stream",
     "text": [
      "number is even\n"
     ]
    }
   ],
   "source": [
    "# Note that you don't need to put parenthesis around the boolean expression\n",
    "n = 4\n",
    "if n % 2 == 0:\n",
    "    # if block defined by indenting contents (Use 4 spaces)\n",
    "    print('number is even')"
   ]
  },
  {
   "cell_type": "code",
   "execution_count": 86,
   "metadata": {},
   "outputs": [],
   "source": [
    "# Use the pass keyword as a place holder when necessary\n",
    "n = 4\n",
    "if n % 2 == 0:\n",
    "    # TODO: put something here\n",
    "    pass"
   ]
  },
  {
   "cell_type": "code",
   "execution_count": 87,
   "metadata": {},
   "outputs": [
    {
     "name": "stdout",
     "output_type": "stream",
     "text": [
      "n > 0\n"
     ]
    }
   ],
   "source": [
    "# elif (as opposed to elseif, else if, etc)\n",
    "n = 5\n",
    "if n > 0:\n",
    "    print('n > 0')\n",
    "elif n < 0:\n",
    "    print('n < 0')\n",
    "else:\n",
    "    print('n is probably zero')"
   ]
  },
  {
   "cell_type": "code",
   "execution_count": 88,
   "metadata": {},
   "outputs": [
    {
     "name": "stdout",
     "output_type": "stream",
     "text": [
      "0\n",
      "2\n"
     ]
    }
   ],
   "source": [
    "# count 0, 1, 2 (don't print the 1)\n",
    "for i in range(3):\n",
    "    if i == 1:\n",
    "        continue\n",
    "    print(i)"
   ]
  },
  {
   "cell_type": "code",
   "execution_count": 89,
   "metadata": {},
   "outputs": [
    {
     "name": "stdout",
     "output_type": "stream",
     "text": [
      "0\n",
      "1\n",
      "2\n"
     ]
    }
   ],
   "source": [
    "i = -1\n",
    "while i < 10:\n",
    "    i += 1\n",
    "    if i >=3:\n",
    "        break\n",
    "    print(i)"
   ]
  },
  {
   "cell_type": "markdown",
   "metadata": {},
   "source": [
    "## The Big 4 Data Structures"
   ]
  },
  {
   "cell_type": "markdown",
   "metadata": {},
   "source": [
    "### Lists (array equivalent)"
   ]
  },
  {
   "cell_type": "code",
   "execution_count": 109,
   "metadata": {},
   "outputs": [
    {
     "name": "stdout",
     "output_type": "stream",
     "text": [
      "empty list: []\n",
      "list with values: [0, 2, 4, 6]\n",
      "list created from something iterable: [0, 1, 2, 3, 4, 5, 6, 7, 8, 9]\n"
     ]
    }
   ],
   "source": [
    "print('empty list:', [])\n",
    "print('list with values:', [0, 2, 4, 6])\n",
    "a = list(range(10))\n",
    "print('list created from something iterable:', a)"
   ]
  },
  {
   "cell_type": "code",
   "execution_count": 110,
   "metadata": {},
   "outputs": [
    {
     "name": "stdout",
     "output_type": "stream",
     "text": [
      "a has 10 items\n"
     ]
    }
   ],
   "source": [
    "# Use len to find length of list\n",
    "print('a has', len(a), 'items')"
   ]
  },
  {
   "cell_type": "code",
   "execution_count": 111,
   "metadata": {},
   "outputs": [
    {
     "name": "stdout",
     "output_type": "stream",
     "text": [
      "1st item: 0\n",
      "last item: 9\n",
      "1st 3 items: [0, 1, 2]\n",
      "2nd to 5th items: [1, 2, 3, 4]\n",
      "last 3 items: [7, 8, 9]\n",
      "every third element starting with the 3rd element: [2, 5, 8]\n"
     ]
    }
   ],
   "source": [
    "print('1st item:', a[0])\n",
    "print('last item:', a[-1])\n",
    "print('1st 3 items:', a[:3])  # get slice of array\n",
    "print('2nd to 5th items:', a[1:5])\n",
    "print('last 3 items:', a[-3:])\n",
    "print('every third element starting with the 3rd element:', a[2::3])"
   ]
  },
  {
   "cell_type": "code",
   "execution_count": 112,
   "metadata": {},
   "outputs": [
    {
     "name": "stdout",
     "output_type": "stream",
     "text": [
      "1st char: s\n",
      "last item: t\n",
      "1st 3 items: str\n",
      "2nd to 5th items: trin\n",
      "last 3 items: est\n",
      "every third element starting with the 3rd element: rgs\n"
     ]
    }
   ],
   "source": [
    "# Indexing and slicing operations also apply to strings as well\n",
    "s = \"stringiest\"\n",
    "print('1st char:', s[0])\n",
    "print('last item:', s[-1])\n",
    "print('1st 3 items:', s[:3])  # get slice of array\n",
    "print('2nd to 5th items:', s[1:5])\n",
    "print('last 3 items:', s[-3:])\n",
    "print('every third element starting with the 3rd element:', s[2::3])"
   ]
  },
  {
   "cell_type": "code",
   "execution_count": 93,
   "metadata": {},
   "outputs": [
    {
     "name": "stdout",
     "output_type": "stream",
     "text": [
      "[4, 1, 2, 3]\n",
      "[4, 20, 40, 50, 3]\n"
     ]
    }
   ],
   "source": [
    "a = [0, 1, 2, 3]\n",
    "a[0] = 4\n",
    "print(a)\n",
    "\n",
    "# Python is amazingly consistent.  You can get a slice of an array and you can set a slice of an array\n",
    "a[1:3] = [20, 40, 50]\n",
    "print(a)"
   ]
  },
  {
   "cell_type": "code",
   "execution_count": 94,
   "metadata": {},
   "outputs": [
    {
     "name": "stdout",
     "output_type": "stream",
     "text": [
      "['__add__', '__class__', '__contains__', '__delattr__', '__delitem__', '__dir__', '__doc__', '__eq__', '__format__', '__ge__', '__getattribute__', '__getitem__', '__gt__', '__hash__', '__iadd__', '__imul__', '__init__', '__init_subclass__', '__iter__', '__le__', '__len__', '__lt__', '__mul__', '__ne__', '__new__', '__reduce__', '__reduce_ex__', '__repr__', '__reversed__', '__rmul__', '__setattr__', '__setitem__', '__sizeof__', '__str__', '__subclasshook__', 'append', 'clear', 'copy', 'count', 'extend', 'index', 'insert', 'pop', 'remove', 'reverse', 'sort']\n"
     ]
    }
   ],
   "source": [
    "# Let's take a quick look at the members of our list instance\n",
    "print(dir(a))"
   ]
  },
  {
   "cell_type": "code",
   "execution_count": 95,
   "metadata": {},
   "outputs": [
    {
     "name": "stdout",
     "output_type": "stream",
     "text": [
      "a before: [4, 20, 40, 50, 3]\n",
      "a after: [4, 20, 40, 50, 3, 10]\n"
     ]
    }
   ],
   "source": [
    "# Add an item to the list\n",
    "print('a before:', a)\n",
    "a.append(10)\n",
    "print('a after:', a)"
   ]
  },
  {
   "cell_type": "code",
   "execution_count": 96,
   "metadata": {},
   "outputs": [
    {
     "name": "stdout",
     "output_type": "stream",
     "text": [
      "[-2, -1, 0, 1]\n"
     ]
    }
   ],
   "source": [
    "# combine 2 lists into a single list\n",
    "print([-2, -1] + [0, 1])"
   ]
  },
  {
   "cell_type": "markdown",
   "metadata": {},
   "source": [
    "### tuples (immutable list)"
   ]
  },
  {
   "cell_type": "code",
   "execution_count": 97,
   "metadata": {},
   "outputs": [
    {
     "name": "stdout",
     "output_type": "stream",
     "text": [
      "t1: (1,)\n",
      "t2: (1, 2)\n"
     ]
    }
   ],
   "source": [
    "# Note:it's easy to accidentally turn something into a tuple with an errant comma\n",
    "t1= 1,\n",
    "t2 = 1, 2\n",
    "print('t1:', t1)\n",
    "print('t2:', t2)"
   ]
  },
  {
   "cell_type": "code",
   "execution_count": 98,
   "metadata": {},
   "outputs": [
    {
     "name": "stdout",
     "output_type": "stream",
     "text": [
      "t1: (1,)\n",
      "t2: (1, 2)\n"
     ]
    }
   ],
   "source": [
    "# It's more common to define tuples with parenthesis around the values\n",
    "t1 = (1,)  # comma is necessary\n",
    "t2 = (1, 2)\n",
    "print('t1:', t1)\n",
    "print('t2:', t2)"
   ]
  },
  {
   "cell_type": "code",
   "execution_count": 99,
   "metadata": {},
   "outputs": [
    {
     "name": "stdout",
     "output_type": "stream",
     "text": [
      "'tuple' object does not support item assignment\n"
     ]
    }
   ],
   "source": [
    "try:\n",
    "    t1[0] = 'this will raise an error'\n",
    "except TypeError as error:\n",
    "    print(error)"
   ]
  },
  {
   "cell_type": "markdown",
   "metadata": {},
   "source": [
    "So why use a tuple instead of a list?"
   ]
  },
  {
   "cell_type": "code",
   "execution_count": 100,
   "metadata": {},
   "outputs": [],
   "source": [
    "# Reason 1: To prevent something from being changed accidentally\n",
    "STATUS_CHOICES = (\n",
    "    # (code, display_text pairs)\n",
    "    ('O', 'Open'),\n",
    "    ('C', 'Closed'),\n",
    ")"
   ]
  },
  {
   "cell_type": "markdown",
   "metadata": {},
   "source": [
    "Reason 2:\n",
    "They're baked into the language.  A function takes a tuple of arguments and returns a tuple of values"
   ]
  },
  {
   "cell_type": "markdown",
   "metadata": {},
   "source": [
    "## Dictionaries"
   ]
  },
  {
   "cell_type": "markdown",
   "metadata": {},
   "source": [
    "A dictionary (`dict` for short) is equivalent to a hashtable or JavaScript object"
   ]
  },
  {
   "cell_type": "code",
   "execution_count": 101,
   "metadata": {},
   "outputs": [
    {
     "name": "stdout",
     "output_type": "stream",
     "text": [
      "empty_dict {}\n"
     ]
    }
   ],
   "source": [
    "empty_dict = {}\n",
    "print('empty_dict', empty_dict)"
   ]
  },
  {
   "cell_type": "code",
   "execution_count": 102,
   "metadata": {},
   "outputs": [
    {
     "name": "stdout",
     "output_type": "stream",
     "text": [
      "dict_with_values {'name': 'Arthur', 'quest': 'To seek the grail', 'airspeed': 'African or European?', True: 'yes', 3: 'Number counted to', 'key_in_variable': 'Different from JavaScript'}\n"
     ]
    }
   ],
   "source": [
    "# Usually keys are strings\n",
    "variable_for_key = 'key_in_variable'\n",
    "dict_with_values = {\n",
    "    'name': 'Arthur',\n",
    "    'quest': 'To seek the grail',\n",
    "    'airspeed': 'African or European?',\n",
    "    True: 'yes',\n",
    "    3: 'Number counted to',\n",
    "    variable_for_key: \"Different from JavaScript\",\n",
    "}\n",
    "print('dict_with_values', dict_with_values)"
   ]
  },
  {
   "cell_type": "code",
   "execution_count": 103,
   "metadata": {},
   "outputs": [
    {
     "name": "stdout",
     "output_type": "stream",
     "text": [
      "Arthur\n"
     ]
    }
   ],
   "source": [
    "# Access a value in a dict\n",
    "print(dict_with_values['name'])"
   ]
  },
  {
   "cell_type": "code",
   "execution_count": 104,
   "metadata": {},
   "outputs": [
    {
     "name": "stdout",
     "output_type": "stream",
     "text": [
      "{'name': 'Arthur', 'quest': 'To seek the grail', 'airspeed': 'African or European?', True: 'yes', 3: 'Number counted to', 'key_in_variable': 'Different from JavaScript', 'color': 'red'}\n"
     ]
    }
   ],
   "source": [
    "# Set a value in a dict\n",
    "dict_with_values['color'] = 'red'\n",
    "print(dict_with_values)"
   ]
  },
  {
   "cell_type": "code",
   "execution_count": 105,
   "metadata": {},
   "outputs": [
    {
     "name": "stdout",
     "output_type": "stream",
     "text": [
      "dict_keys(['name', 'quest', 'airspeed', True, 3, 'key_in_variable', 'color'])\n"
     ]
    }
   ],
   "source": [
    "# get keys of dict\n",
    "print(dict_with_values.keys())"
   ]
  },
  {
   "cell_type": "code",
   "execution_count": 106,
   "metadata": {},
   "outputs": [
    {
     "name": "stdout",
     "output_type": "stream",
     "text": [
      "dict_values(['Arthur', 'To seek the grail', 'African or European?', 'yes', 'Number counted to', 'Different from JavaScript', 'red'])\n"
     ]
    }
   ],
   "source": [
    "# get values of dict\n",
    "print(dict_with_values.values())"
   ]
  },
  {
   "cell_type": "code",
   "execution_count": 107,
   "metadata": {},
   "outputs": [
    {
     "name": "stdout",
     "output_type": "stream",
     "text": [
      "           name  Arthur\n",
      "          quest  To seek the grail\n",
      "       airspeed  African or European?\n",
      "              1  yes\n",
      "              3  Number counted to\n",
      "key_in_variable  Different from JavaScript\n",
      "          color  red\n"
     ]
    }
   ],
   "source": [
    "# iterate through key-value pairs of dict.\n",
    "# dicts retain the order in which keys are defined/added\n",
    "for key, value in dict_with_values.items():\n",
    "    print(f'{key:>15}  {value}')"
   ]
  },
  {
   "cell_type": "code",
   "execution_count": 108,
   "metadata": {},
   "outputs": [
    {
     "ename": "SyntaxError",
     "evalue": "invalid syntax (<ipython-input-108-1530c9d4ac61>, line 1)",
     "output_type": "error",
     "traceback": [
      "\u001b[1;36m  File \u001b[1;32m\"<ipython-input-108-1530c9d4ac61>\"\u001b[1;36m, line \u001b[1;32m1\u001b[0m\n\u001b[1;33m    Useful `dict` methods\u001b[0m\n\u001b[1;37m           ^\u001b[0m\n\u001b[1;31mSyntaxError\u001b[0m\u001b[1;31m:\u001b[0m invalid syntax\n"
     ]
    }
   ],
   "source": [
    "Useful `dict` methods\n",
    "\n",
    "method | description"
   ]
  },
  {
   "cell_type": "code",
   "execution_count": null,
   "metadata": {},
   "outputs": [],
   "source": []
  },
  {
   "cell_type": "code",
   "execution_count": null,
   "metadata": {},
   "outputs": [],
   "source": []
  },
  {
   "cell_type": "markdown",
   "metadata": {},
   "source": [
    "# Sets"
   ]
  },
  {
   "cell_type": "code",
   "execution_count": null,
   "metadata": {},
   "outputs": [],
   "source": []
  },
  {
   "cell_type": "code",
   "execution_count": null,
   "metadata": {},
   "outputs": [],
   "source": []
  },
  {
   "cell_type": "markdown",
   "metadata": {},
   "source": [
    "# Python truthiness\n",
    "\n",
    "value | bool(value)\n",
    "----- | ------------\n",
    "`True`  | `True`\n",
    "`False` | `False`\n",
    "`None`  | `False`\n",
    "`0`     | False\n",
    "Nonzero | True\n",
    "empty string | False\n",
    "string of a least 1 character | True\n",
    "empty `list`, `tuple`, `dict` or `set` | False\n",
    "`list`, `tuple`, `dict`, or `set` with items in it | True"
   ]
  },
  {
   "cell_type": "code",
   "execution_count": null,
   "metadata": {},
   "outputs": [],
   "source": [
    "# The or operator doesn't necessarily return True or False.\n",
    "# Instead it returns the 1st \"True\" value\n",
    "print(0 or [] or 'foo' or set() or 'bar')\n",
    "\n",
    "# Unless everything is \"False\" in which case it returns the last \"False\" value\n",
    "print(0 or [] or set())"
   ]
  },
  {
   "cell_type": "code",
   "execution_count": null,
   "metadata": {},
   "outputs": [],
   "source": [
    "# The and operator doesn't necessarily return True or False.\n",
    "# Instead it returns the 1st \"False\" value\n",
    "print([3] and 'foo' and 0 and {})\n",
    "\n",
    "# Unless everything is True in which case it returns the last \"True value\"\n",
    "print([3] and 'foo')"
   ]
  },
  {
   "cell_type": "code",
   "execution_count": null,
   "metadata": {},
   "outputs": [],
   "source": []
  },
  {
   "cell_type": "code",
   "execution_count": null,
   "metadata": {},
   "outputs": [],
   "source": []
  },
  {
   "cell_type": "markdown",
   "metadata": {},
   "source": [
    "# Functions in Python"
   ]
  },
  {
   "cell_type": "code",
   "execution_count": null,
   "metadata": {},
   "outputs": [],
   "source": [
    "def my_func(a, b='bravo', c='charlie', *args, **kwargs):\n",
    "    print('     a:', a)\n",
    "    print('     b:', b)\n",
    "    print('     c:', c)\n",
    "    print('  args:', args)\n",
    "    print('kwargs:', kwargs)"
   ]
  },
  {
   "cell_type": "code",
   "execution_count": null,
   "metadata": {},
   "outputs": [],
   "source": [
    "# def my_func(a, b='bravo', c='charlie', *args, **kwargs):\n",
    "my_func('A')"
   ]
  },
  {
   "cell_type": "code",
   "execution_count": null,
   "metadata": {},
   "outputs": [],
   "source": [
    "# def my_func(a, b='bravo', c='charlie', *args, **kwargs):\n",
    "\n",
    "# Override one of the default values\n",
    "my_func('A', 'B')"
   ]
  },
  {
   "cell_type": "code",
   "execution_count": null,
   "metadata": {},
   "outputs": [],
   "source": [
    "# def my_func(a, b='bravo', c='charlie', *args, **kwargs):\n",
    "\n",
    "# Use keyword argument syntax to override a specific default value\n",
    "my_func('A', c='C')"
   ]
  },
  {
   "cell_type": "code",
   "execution_count": null,
   "metadata": {},
   "outputs": [],
   "source": [
    "# def my_func(a, b='bravo', c='charlie', *args, **kwargs):\n",
    "\n",
    "# Use more than 3 positional arguments\n",
    "my_func('A', 'B', 'C', 'D1', 'D2')"
   ]
  },
  {
   "cell_type": "code",
   "execution_count": null,
   "metadata": {},
   "outputs": [],
   "source": [
    "# def my_func(a, b='bravo', c='charlie', *args, **kwargs):\n",
    "\n",
    "# Use a kwargs argument\n",
    "my_func('A', color='green')"
   ]
  },
  {
   "cell_type": "code",
   "execution_count": null,
   "metadata": {},
   "outputs": [],
   "source": [
    "# def my_func(a, b='bravo', c='charlie', *args, **kwargs):\n",
    "\n",
    "# \n",
    "my_func('A', b='B', color='red')"
   ]
  },
  {
   "cell_type": "markdown",
   "metadata": {},
   "source": [
    "The end result of this flexibility in function arguments is that it is easy to add capabilties to an existing function without breaking code that uses it."
   ]
  },
  {
   "cell_type": "code",
   "execution_count": null,
   "metadata": {},
   "outputs": [],
   "source": []
  }
 ],
 "metadata": {
  "kernelspec": {
   "display_name": "Python 3",
   "language": "python",
   "name": "python3"
  },
  "language_info": {
   "codemirror_mode": {
    "name": "ipython",
    "version": 3
   },
   "file_extension": ".py",
   "mimetype": "text/x-python",
   "name": "python",
   "nbconvert_exporter": "python",
   "pygments_lexer": "ipython3",
   "version": "3.8.3"
  }
 },
 "nbformat": 4,
 "nbformat_minor": 4
}
